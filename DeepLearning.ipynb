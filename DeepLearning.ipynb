{
 "cells": [
  {
   "cell_type": "markdown",
   "id": "7ad43d3e",
   "metadata": {},
   "source": [
    "# Machine Learning"
   ]
  },
  {
   "cell_type": "code",
   "execution_count": 1,
   "id": "6ba5d013",
   "metadata": {},
   "outputs": [
    {
     "name": "stderr",
     "output_type": "stream",
     "text": [
      "C:\\Users\\Pakanun\\anaconda3\\envs\\tensorflow\\lib\\site-packages\\scipy\\__init__.py:146: UserWarning: A NumPy version >=1.16.5 and <1.23.0 is required for this version of SciPy (detected version 1.23.1\n",
      "  warnings.warn(f\"A NumPy version >={np_minversion} and <{np_maxversion}\"\n"
     ]
    }
   ],
   "source": [
    "import pandas as pd\n",
    "import numpy as np\n",
    "import matplotlib as mpl\n",
    "import matplotlib.pyplot as plt\n",
    "%matplotlib inline\n",
    "import seaborn as sns\n",
    "from scipy import stats"
   ]
  },
  {
   "cell_type": "code",
   "execution_count": 2,
   "id": "d53d2fb8",
   "metadata": {
    "scrolled": true
   },
   "outputs": [
    {
     "data": {
      "text/html": [
       "<div>\n",
       "<style scoped>\n",
       "    .dataframe tbody tr th:only-of-type {\n",
       "        vertical-align: middle;\n",
       "    }\n",
       "\n",
       "    .dataframe tbody tr th {\n",
       "        vertical-align: top;\n",
       "    }\n",
       "\n",
       "    .dataframe thead th {\n",
       "        text-align: right;\n",
       "    }\n",
       "</style>\n",
       "<table border=\"1\" class=\"dataframe\">\n",
       "  <thead>\n",
       "    <tr style=\"text-align: right;\">\n",
       "      <th></th>\n",
       "      <th>ph</th>\n",
       "      <th>Hardness</th>\n",
       "      <th>Solids</th>\n",
       "      <th>Chloramines</th>\n",
       "      <th>Sulfate</th>\n",
       "      <th>Conductivity</th>\n",
       "      <th>Organic_carbon</th>\n",
       "      <th>Trihalomethanes</th>\n",
       "      <th>Turbidity</th>\n",
       "      <th>Potability</th>\n",
       "    </tr>\n",
       "  </thead>\n",
       "  <tbody>\n",
       "    <tr>\n",
       "      <th>0</th>\n",
       "      <td>NaN</td>\n",
       "      <td>204.890455</td>\n",
       "      <td>20791.318981</td>\n",
       "      <td>7.300212</td>\n",
       "      <td>368.516441</td>\n",
       "      <td>564.308654</td>\n",
       "      <td>10.379783</td>\n",
       "      <td>86.990970</td>\n",
       "      <td>2.963135</td>\n",
       "      <td>0</td>\n",
       "    </tr>\n",
       "    <tr>\n",
       "      <th>1</th>\n",
       "      <td>3.716080</td>\n",
       "      <td>129.422921</td>\n",
       "      <td>18630.057858</td>\n",
       "      <td>6.635246</td>\n",
       "      <td>NaN</td>\n",
       "      <td>592.885359</td>\n",
       "      <td>15.180013</td>\n",
       "      <td>56.329076</td>\n",
       "      <td>4.500656</td>\n",
       "      <td>0</td>\n",
       "    </tr>\n",
       "    <tr>\n",
       "      <th>2</th>\n",
       "      <td>8.099124</td>\n",
       "      <td>224.236259</td>\n",
       "      <td>19909.541732</td>\n",
       "      <td>9.275884</td>\n",
       "      <td>NaN</td>\n",
       "      <td>418.606213</td>\n",
       "      <td>16.868637</td>\n",
       "      <td>66.420093</td>\n",
       "      <td>3.055934</td>\n",
       "      <td>0</td>\n",
       "    </tr>\n",
       "    <tr>\n",
       "      <th>3</th>\n",
       "      <td>8.316766</td>\n",
       "      <td>214.373394</td>\n",
       "      <td>22018.417441</td>\n",
       "      <td>8.059332</td>\n",
       "      <td>356.886136</td>\n",
       "      <td>363.266516</td>\n",
       "      <td>18.436524</td>\n",
       "      <td>100.341674</td>\n",
       "      <td>4.628771</td>\n",
       "      <td>0</td>\n",
       "    </tr>\n",
       "    <tr>\n",
       "      <th>4</th>\n",
       "      <td>9.092223</td>\n",
       "      <td>181.101509</td>\n",
       "      <td>17978.986339</td>\n",
       "      <td>6.546600</td>\n",
       "      <td>310.135738</td>\n",
       "      <td>398.410813</td>\n",
       "      <td>11.558279</td>\n",
       "      <td>31.997993</td>\n",
       "      <td>4.075075</td>\n",
       "      <td>0</td>\n",
       "    </tr>\n",
       "  </tbody>\n",
       "</table>\n",
       "</div>"
      ],
      "text/plain": [
       "         ph    Hardness        Solids  Chloramines     Sulfate  Conductivity  \\\n",
       "0       NaN  204.890455  20791.318981     7.300212  368.516441    564.308654   \n",
       "1  3.716080  129.422921  18630.057858     6.635246         NaN    592.885359   \n",
       "2  8.099124  224.236259  19909.541732     9.275884         NaN    418.606213   \n",
       "3  8.316766  214.373394  22018.417441     8.059332  356.886136    363.266516   \n",
       "4  9.092223  181.101509  17978.986339     6.546600  310.135738    398.410813   \n",
       "\n",
       "   Organic_carbon  Trihalomethanes  Turbidity  Potability  \n",
       "0       10.379783        86.990970   2.963135           0  \n",
       "1       15.180013        56.329076   4.500656           0  \n",
       "2       16.868637        66.420093   3.055934           0  \n",
       "3       18.436524       100.341674   4.628771           0  \n",
       "4       11.558279        31.997993   4.075075           0  "
      ]
     },
     "execution_count": 2,
     "metadata": {},
     "output_type": "execute_result"
    }
   ],
   "source": [
    "df = pd.read_csv('water_potability.csv')\n",
    "df.head()"
   ]
  },
  {
   "cell_type": "code",
   "execution_count": 3,
   "id": "28c3f600",
   "metadata": {},
   "outputs": [
    {
     "data": {
      "text/plain": [
       "Index(['ph', 'Hardness', 'Solids', 'Chloramines', 'Sulfate', 'Conductivity',\n",
       "       'Organic_carbon', 'Trihalomethanes', 'Turbidity', 'Potability'],\n",
       "      dtype='object')"
      ]
     },
     "execution_count": 3,
     "metadata": {},
     "output_type": "execute_result"
    }
   ],
   "source": [
    "col_names = df.columns\n",
    "\n",
    "col_names"
   ]
  },
  {
   "cell_type": "code",
   "execution_count": 4,
   "id": "89d4abbb",
   "metadata": {},
   "outputs": [],
   "source": [
    "df.columns = ['ph', 'Hardness', 'Solids', 'Chloramines', 'Sulfate', 'Conductivity',\n",
    "       'Organic_carbon', 'Trihalomethanes', 'Turbidity', 'Potability']"
   ]
  },
  {
   "cell_type": "code",
   "execution_count": 5,
   "id": "f281dc0f",
   "metadata": {},
   "outputs": [
    {
     "data": {
      "text/plain": [
       "ph                 491\n",
       "Hardness             0\n",
       "Solids               0\n",
       "Chloramines          0\n",
       "Sulfate            781\n",
       "Conductivity         0\n",
       "Organic_carbon       0\n",
       "Trihalomethanes    162\n",
       "Turbidity            0\n",
       "Potability           0\n",
       "dtype: int64"
      ]
     },
     "execution_count": 5,
     "metadata": {},
     "output_type": "execute_result"
    }
   ],
   "source": [
    "df.isna().sum()"
   ]
  },
  {
   "cell_type": "code",
   "execution_count": 6,
   "id": "1d30bd54",
   "metadata": {},
   "outputs": [
    {
     "data": {
      "text/plain": [
       "0"
      ]
     },
     "execution_count": 6,
     "metadata": {},
     "output_type": "execute_result"
    }
   ],
   "source": [
    "df.duplicated().sum()"
   ]
  },
  {
   "cell_type": "code",
   "execution_count": 7,
   "id": "2f3ab073",
   "metadata": {},
   "outputs": [
    {
     "name": "stdout",
     "output_type": "stream",
     "text": [
      "<class 'pandas.core.frame.DataFrame'>\n",
      "RangeIndex: 3276 entries, 0 to 3275\n",
      "Data columns (total 10 columns):\n",
      " #   Column           Non-Null Count  Dtype  \n",
      "---  ------           --------------  -----  \n",
      " 0   ph               2785 non-null   float64\n",
      " 1   Hardness         3276 non-null   float64\n",
      " 2   Solids           3276 non-null   float64\n",
      " 3   Chloramines      3276 non-null   float64\n",
      " 4   Sulfate          2495 non-null   float64\n",
      " 5   Conductivity     3276 non-null   float64\n",
      " 6   Organic_carbon   3276 non-null   float64\n",
      " 7   Trihalomethanes  3114 non-null   float64\n",
      " 8   Turbidity        3276 non-null   float64\n",
      " 9   Potability       3276 non-null   int64  \n",
      "dtypes: float64(9), int64(1)\n",
      "memory usage: 256.1 KB\n"
     ]
    }
   ],
   "source": [
    "df.info()"
   ]
  },
  {
   "cell_type": "code",
   "execution_count": 8,
   "id": "17823848",
   "metadata": {},
   "outputs": [],
   "source": [
    "from sklearn.impute import SimpleImputer\n",
    "imp_mean = SimpleImputer(missing_values = np.nan, strategy='mean')\n",
    "df_clean = imp_mean.fit_transform(df)"
   ]
  },
  {
   "cell_type": "code",
   "execution_count": 9,
   "id": "3f318ea9",
   "metadata": {},
   "outputs": [],
   "source": [
    "df_clean = pd.DataFrame(df_clean,columns = df.columns)"
   ]
  },
  {
   "cell_type": "code",
   "execution_count": 10,
   "id": "5a1f118b",
   "metadata": {
    "scrolled": false
   },
   "outputs": [
    {
     "data": {
      "text/html": [
       "<style type=\"text/css\">\n",
       "#T_49e6f_row0_col0, #T_49e6f_row0_col1, #T_49e6f_row0_col3, #T_49e6f_row0_col4, #T_49e6f_row0_col5, #T_49e6f_row0_col6, #T_49e6f_row0_col7, #T_49e6f_row0_col8, #T_49e6f_row0_col9, #T_49e6f_row7_col2 {\n",
       "  background-color: #67000d;\n",
       "  color: #f1f1f1;\n",
       "}\n",
       "#T_49e6f_row0_col2, #T_49e6f_row1_col1, #T_49e6f_row5_col1 {\n",
       "  background-color: #ffede5;\n",
       "  color: #000000;\n",
       "}\n",
       "#T_49e6f_row1_col0, #T_49e6f_row1_col3, #T_49e6f_row1_col6, #T_49e6f_row1_col8, #T_49e6f_row1_col9, #T_49e6f_row2_col0, #T_49e6f_row2_col1, #T_49e6f_row2_col3, #T_49e6f_row2_col4, #T_49e6f_row2_col5, #T_49e6f_row2_col6, #T_49e6f_row2_col8, #T_49e6f_row2_col9, #T_49e6f_row3_col0, #T_49e6f_row3_col2, #T_49e6f_row3_col3, #T_49e6f_row3_col6, #T_49e6f_row3_col7, #T_49e6f_row3_col8, #T_49e6f_row3_col9, #T_49e6f_row4_col0, #T_49e6f_row4_col3, #T_49e6f_row4_col6, #T_49e6f_row4_col8, #T_49e6f_row4_col9, #T_49e6f_row5_col0, #T_49e6f_row5_col3, #T_49e6f_row5_col6, #T_49e6f_row5_col8, #T_49e6f_row5_col9, #T_49e6f_row6_col0, #T_49e6f_row6_col3, #T_49e6f_row6_col8, #T_49e6f_row6_col9, #T_49e6f_row7_col3, #T_49e6f_row7_col8, #T_49e6f_row7_col9 {\n",
       "  background-color: #fff5f0;\n",
       "  color: #000000;\n",
       "}\n",
       "#T_49e6f_row1_col2 {\n",
       "  background-color: #fc9879;\n",
       "  color: #000000;\n",
       "}\n",
       "#T_49e6f_row1_col4, #T_49e6f_row5_col4 {\n",
       "  background-color: #fee6da;\n",
       "  color: #000000;\n",
       "}\n",
       "#T_49e6f_row1_col5, #T_49e6f_row5_col5 {\n",
       "  background-color: #fee3d7;\n",
       "  color: #000000;\n",
       "}\n",
       "#T_49e6f_row1_col7, #T_49e6f_row5_col7, #T_49e6f_row6_col7 {\n",
       "  background-color: #fff2eb;\n",
       "  color: #000000;\n",
       "}\n",
       "#T_49e6f_row2_col2, #T_49e6f_row7_col4 {\n",
       "  background-color: #fedccd;\n",
       "  color: #000000;\n",
       "}\n",
       "#T_49e6f_row2_col7, #T_49e6f_row3_col1, #T_49e6f_row6_col6, #T_49e6f_row7_col0 {\n",
       "  background-color: #fff4ef;\n",
       "  color: #000000;\n",
       "}\n",
       "#T_49e6f_row3_col4 {\n",
       "  background-color: #fff0e9;\n",
       "  color: #000000;\n",
       "}\n",
       "#T_49e6f_row3_col5 {\n",
       "  background-color: #fff0e8;\n",
       "  color: #000000;\n",
       "}\n",
       "#T_49e6f_row4_col1 {\n",
       "  background-color: #ffeee6;\n",
       "  color: #000000;\n",
       "}\n",
       "#T_49e6f_row4_col2 {\n",
       "  background-color: #fcbba1;\n",
       "  color: #000000;\n",
       "}\n",
       "#T_49e6f_row4_col4, #T_49e6f_row4_col5, #T_49e6f_row7_col1 {\n",
       "  background-color: #fee7db;\n",
       "  color: #000000;\n",
       "}\n",
       "#T_49e6f_row4_col7 {\n",
       "  background-color: #fff2ec;\n",
       "  color: #000000;\n",
       "}\n",
       "#T_49e6f_row5_col2 {\n",
       "  background-color: #fc9e80;\n",
       "  color: #000000;\n",
       "}\n",
       "#T_49e6f_row6_col1 {\n",
       "  background-color: #ffece3;\n",
       "  color: #000000;\n",
       "}\n",
       "#T_49e6f_row6_col2 {\n",
       "  background-color: #fb7c5c;\n",
       "  color: #f1f1f1;\n",
       "}\n",
       "#T_49e6f_row6_col4 {\n",
       "  background-color: #fee5d9;\n",
       "  color: #000000;\n",
       "}\n",
       "#T_49e6f_row6_col5 {\n",
       "  background-color: #fee0d2;\n",
       "  color: #000000;\n",
       "}\n",
       "#T_49e6f_row7_col5 {\n",
       "  background-color: #fdc7b2;\n",
       "  color: #000000;\n",
       "}\n",
       "#T_49e6f_row7_col6 {\n",
       "  background-color: #fff4ee;\n",
       "  color: #000000;\n",
       "}\n",
       "#T_49e6f_row7_col7 {\n",
       "  background-color: #ffefe8;\n",
       "  color: #000000;\n",
       "}\n",
       "</style>\n",
       "<table id=\"T_49e6f\">\n",
       "  <thead>\n",
       "    <tr>\n",
       "      <th class=\"blank level0\" >&nbsp;</th>\n",
       "      <th id=\"T_49e6f_level0_col0\" class=\"col_heading level0 col0\" >ph</th>\n",
       "      <th id=\"T_49e6f_level0_col1\" class=\"col_heading level0 col1\" >Hardness</th>\n",
       "      <th id=\"T_49e6f_level0_col2\" class=\"col_heading level0 col2\" >Solids</th>\n",
       "      <th id=\"T_49e6f_level0_col3\" class=\"col_heading level0 col3\" >Chloramines</th>\n",
       "      <th id=\"T_49e6f_level0_col4\" class=\"col_heading level0 col4\" >Sulfate</th>\n",
       "      <th id=\"T_49e6f_level0_col5\" class=\"col_heading level0 col5\" >Conductivity</th>\n",
       "      <th id=\"T_49e6f_level0_col6\" class=\"col_heading level0 col6\" >Organic_carbon</th>\n",
       "      <th id=\"T_49e6f_level0_col7\" class=\"col_heading level0 col7\" >Trihalomethanes</th>\n",
       "      <th id=\"T_49e6f_level0_col8\" class=\"col_heading level0 col8\" >Turbidity</th>\n",
       "      <th id=\"T_49e6f_level0_col9\" class=\"col_heading level0 col9\" >Potability</th>\n",
       "    </tr>\n",
       "  </thead>\n",
       "  <tbody>\n",
       "    <tr>\n",
       "      <th id=\"T_49e6f_level0_row0\" class=\"row_heading level0 row0\" >count</th>\n",
       "      <td id=\"T_49e6f_row0_col0\" class=\"data row0 col0\" >3276.000000</td>\n",
       "      <td id=\"T_49e6f_row0_col1\" class=\"data row0 col1\" >3276.000000</td>\n",
       "      <td id=\"T_49e6f_row0_col2\" class=\"data row0 col2\" >3276.000000</td>\n",
       "      <td id=\"T_49e6f_row0_col3\" class=\"data row0 col3\" >3276.000000</td>\n",
       "      <td id=\"T_49e6f_row0_col4\" class=\"data row0 col4\" >3276.000000</td>\n",
       "      <td id=\"T_49e6f_row0_col5\" class=\"data row0 col5\" >3276.000000</td>\n",
       "      <td id=\"T_49e6f_row0_col6\" class=\"data row0 col6\" >3276.000000</td>\n",
       "      <td id=\"T_49e6f_row0_col7\" class=\"data row0 col7\" >3276.000000</td>\n",
       "      <td id=\"T_49e6f_row0_col8\" class=\"data row0 col8\" >3276.000000</td>\n",
       "      <td id=\"T_49e6f_row0_col9\" class=\"data row0 col9\" >3276.000000</td>\n",
       "    </tr>\n",
       "    <tr>\n",
       "      <th id=\"T_49e6f_level0_row1\" class=\"row_heading level0 row1\" >mean</th>\n",
       "      <td id=\"T_49e6f_row1_col0\" class=\"data row1 col0\" >7.080795</td>\n",
       "      <td id=\"T_49e6f_row1_col1\" class=\"data row1 col1\" >196.369496</td>\n",
       "      <td id=\"T_49e6f_row1_col2\" class=\"data row1 col2\" >22014.092526</td>\n",
       "      <td id=\"T_49e6f_row1_col3\" class=\"data row1 col3\" >7.122277</td>\n",
       "      <td id=\"T_49e6f_row1_col4\" class=\"data row1 col4\" >333.775777</td>\n",
       "      <td id=\"T_49e6f_row1_col5\" class=\"data row1 col5\" >426.205111</td>\n",
       "      <td id=\"T_49e6f_row1_col6\" class=\"data row1 col6\" >14.284970</td>\n",
       "      <td id=\"T_49e6f_row1_col7\" class=\"data row1 col7\" >66.396293</td>\n",
       "      <td id=\"T_49e6f_row1_col8\" class=\"data row1 col8\" >3.966786</td>\n",
       "      <td id=\"T_49e6f_row1_col9\" class=\"data row1 col9\" >0.390110</td>\n",
       "    </tr>\n",
       "    <tr>\n",
       "      <th id=\"T_49e6f_level0_row2\" class=\"row_heading level0 row2\" >std</th>\n",
       "      <td id=\"T_49e6f_row2_col0\" class=\"data row2 col0\" >1.469956</td>\n",
       "      <td id=\"T_49e6f_row2_col1\" class=\"data row2 col1\" >32.879761</td>\n",
       "      <td id=\"T_49e6f_row2_col2\" class=\"data row2 col2\" >8768.570828</td>\n",
       "      <td id=\"T_49e6f_row2_col3\" class=\"data row2 col3\" >1.583085</td>\n",
       "      <td id=\"T_49e6f_row2_col4\" class=\"data row2 col4\" >36.142612</td>\n",
       "      <td id=\"T_49e6f_row2_col5\" class=\"data row2 col5\" >80.824064</td>\n",
       "      <td id=\"T_49e6f_row2_col6\" class=\"data row2 col6\" >3.308162</td>\n",
       "      <td id=\"T_49e6f_row2_col7\" class=\"data row2 col7\" >15.769881</td>\n",
       "      <td id=\"T_49e6f_row2_col8\" class=\"data row2 col8\" >0.780382</td>\n",
       "      <td id=\"T_49e6f_row2_col9\" class=\"data row2 col9\" >0.487849</td>\n",
       "    </tr>\n",
       "    <tr>\n",
       "      <th id=\"T_49e6f_level0_row3\" class=\"row_heading level0 row3\" >min</th>\n",
       "      <td id=\"T_49e6f_row3_col0\" class=\"data row3 col0\" >0.000000</td>\n",
       "      <td id=\"T_49e6f_row3_col1\" class=\"data row3 col1\" >47.432000</td>\n",
       "      <td id=\"T_49e6f_row3_col2\" class=\"data row3 col2\" >320.942611</td>\n",
       "      <td id=\"T_49e6f_row3_col3\" class=\"data row3 col3\" >0.352000</td>\n",
       "      <td id=\"T_49e6f_row3_col4\" class=\"data row3 col4\" >129.000000</td>\n",
       "      <td id=\"T_49e6f_row3_col5\" class=\"data row3 col5\" >181.483754</td>\n",
       "      <td id=\"T_49e6f_row3_col6\" class=\"data row3 col6\" >2.200000</td>\n",
       "      <td id=\"T_49e6f_row3_col7\" class=\"data row3 col7\" >0.738000</td>\n",
       "      <td id=\"T_49e6f_row3_col8\" class=\"data row3 col8\" >1.450000</td>\n",
       "      <td id=\"T_49e6f_row3_col9\" class=\"data row3 col9\" >0.000000</td>\n",
       "    </tr>\n",
       "    <tr>\n",
       "      <th id=\"T_49e6f_level0_row4\" class=\"row_heading level0 row4\" >25%</th>\n",
       "      <td id=\"T_49e6f_row4_col0\" class=\"data row4 col0\" >6.277673</td>\n",
       "      <td id=\"T_49e6f_row4_col1\" class=\"data row4 col1\" >176.850538</td>\n",
       "      <td id=\"T_49e6f_row4_col2\" class=\"data row4 col2\" >15666.690297</td>\n",
       "      <td id=\"T_49e6f_row4_col3\" class=\"data row4 col3\" >6.127421</td>\n",
       "      <td id=\"T_49e6f_row4_col4\" class=\"data row4 col4\" >317.094638</td>\n",
       "      <td id=\"T_49e6f_row4_col5\" class=\"data row4 col5\" >365.734414</td>\n",
       "      <td id=\"T_49e6f_row4_col6\" class=\"data row4 col6\" >12.065801</td>\n",
       "      <td id=\"T_49e6f_row4_col7\" class=\"data row4 col7\" >56.647656</td>\n",
       "      <td id=\"T_49e6f_row4_col8\" class=\"data row4 col8\" >3.439711</td>\n",
       "      <td id=\"T_49e6f_row4_col9\" class=\"data row4 col9\" >0.000000</td>\n",
       "    </tr>\n",
       "    <tr>\n",
       "      <th id=\"T_49e6f_level0_row5\" class=\"row_heading level0 row5\" >50%</th>\n",
       "      <td id=\"T_49e6f_row5_col0\" class=\"data row5 col0\" >7.080795</td>\n",
       "      <td id=\"T_49e6f_row5_col1\" class=\"data row5 col1\" >196.967627</td>\n",
       "      <td id=\"T_49e6f_row5_col2\" class=\"data row5 col2\" >20927.833607</td>\n",
       "      <td id=\"T_49e6f_row5_col3\" class=\"data row5 col3\" >7.130299</td>\n",
       "      <td id=\"T_49e6f_row5_col4\" class=\"data row5 col4\" >333.775777</td>\n",
       "      <td id=\"T_49e6f_row5_col5\" class=\"data row5 col5\" >421.884968</td>\n",
       "      <td id=\"T_49e6f_row5_col6\" class=\"data row5 col6\" >14.218338</td>\n",
       "      <td id=\"T_49e6f_row5_col7\" class=\"data row5 col7\" >66.396293</td>\n",
       "      <td id=\"T_49e6f_row5_col8\" class=\"data row5 col8\" >3.955028</td>\n",
       "      <td id=\"T_49e6f_row5_col9\" class=\"data row5 col9\" >0.000000</td>\n",
       "    </tr>\n",
       "    <tr>\n",
       "      <th id=\"T_49e6f_level0_row6\" class=\"row_heading level0 row6\" >75%</th>\n",
       "      <td id=\"T_49e6f_row6_col0\" class=\"data row6 col0\" >7.870050</td>\n",
       "      <td id=\"T_49e6f_row6_col1\" class=\"data row6 col1\" >216.667456</td>\n",
       "      <td id=\"T_49e6f_row6_col2\" class=\"data row6 col2\" >27332.762127</td>\n",
       "      <td id=\"T_49e6f_row6_col3\" class=\"data row6 col3\" >8.114887</td>\n",
       "      <td id=\"T_49e6f_row6_col4\" class=\"data row6 col4\" >350.385756</td>\n",
       "      <td id=\"T_49e6f_row6_col5\" class=\"data row6 col5\" >481.792304</td>\n",
       "      <td id=\"T_49e6f_row6_col6\" class=\"data row6 col6\" >16.557652</td>\n",
       "      <td id=\"T_49e6f_row6_col7\" class=\"data row6 col7\" >76.666609</td>\n",
       "      <td id=\"T_49e6f_row6_col8\" class=\"data row6 col8\" >4.500320</td>\n",
       "      <td id=\"T_49e6f_row6_col9\" class=\"data row6 col9\" >1.000000</td>\n",
       "    </tr>\n",
       "    <tr>\n",
       "      <th id=\"T_49e6f_level0_row7\" class=\"row_heading level0 row7\" >max</th>\n",
       "      <td id=\"T_49e6f_row7_col0\" class=\"data row7 col0\" >14.000000</td>\n",
       "      <td id=\"T_49e6f_row7_col1\" class=\"data row7 col1\" >323.124000</td>\n",
       "      <td id=\"T_49e6f_row7_col2\" class=\"data row7 col2\" >61227.196008</td>\n",
       "      <td id=\"T_49e6f_row7_col3\" class=\"data row7 col3\" >13.127000</td>\n",
       "      <td id=\"T_49e6f_row7_col4\" class=\"data row7 col4\" >481.030642</td>\n",
       "      <td id=\"T_49e6f_row7_col5\" class=\"data row7 col5\" >753.342620</td>\n",
       "      <td id=\"T_49e6f_row7_col6\" class=\"data row7 col6\" >28.300000</td>\n",
       "      <td id=\"T_49e6f_row7_col7\" class=\"data row7 col7\" >124.000000</td>\n",
       "      <td id=\"T_49e6f_row7_col8\" class=\"data row7 col8\" >6.739000</td>\n",
       "      <td id=\"T_49e6f_row7_col9\" class=\"data row7 col9\" >1.000000</td>\n",
       "    </tr>\n",
       "  </tbody>\n",
       "</table>\n"
      ],
      "text/plain": [
       "<pandas.io.formats.style.Styler at 0x1fe3427d880>"
      ]
     },
     "execution_count": 10,
     "metadata": {},
     "output_type": "execute_result"
    }
   ],
   "source": [
    "df_clean.describe().style.background_gradient(cmap = \"Reds\")"
   ]
  },
  {
   "cell_type": "code",
   "execution_count": 11,
   "id": "ff1b3ae7",
   "metadata": {},
   "outputs": [
    {
     "data": {
      "text/plain": [
       "ph                 0\n",
       "Hardness           0\n",
       "Solids             0\n",
       "Chloramines        0\n",
       "Sulfate            0\n",
       "Conductivity       0\n",
       "Organic_carbon     0\n",
       "Trihalomethanes    0\n",
       "Turbidity          0\n",
       "Potability         0\n",
       "dtype: int64"
      ]
     },
     "execution_count": 11,
     "metadata": {},
     "output_type": "execute_result"
    }
   ],
   "source": [
    "df_clean.isna().sum()"
   ]
  },
  {
   "cell_type": "code",
   "execution_count": 12,
   "id": "f76ee33d",
   "metadata": {
    "scrolled": true
   },
   "outputs": [
    {
     "data": {
      "image/png": "[encoded data removed]",
      "text/plain": [
       "<Figure size 576x288 with 2 Axes>"
      ]
     },
     "metadata": {
      "needs_background": "light"
     },
     "output_type": "display_data"
    }
   ],
   "source": [
    "corr_mat = df_clean.corr()\n",
    "fig, ax = plt.subplots(figsize=(8,4))\n",
    "ax = sns.heatmap(corr_mat,annot=True,linewidths=0.5,fmt='.2f',cmap='YlGnBu')"
   ]
  },
  {
   "cell_type": "code",
   "execution_count": 13,
   "id": "7c0f91e1",
   "metadata": {},
   "outputs": [],
   "source": [
    "X = df_clean.drop('Potability',axis = 1)\n",
    "y = df_clean.Potability"
   ]
  },
  {
   "cell_type": "code",
   "execution_count": 14,
   "id": "6506696d",
   "metadata": {},
   "outputs": [],
   "source": [
    "from sklearn.model_selection import train_test_split\n",
    "X_train, X_test, y_train, y_test = train_test_split(X,y,test_size = 0.33,random_state = 42)"
   ]
  },
  {
   "cell_type": "code",
   "execution_count": 15,
   "id": "c6ec5129",
   "metadata": {},
   "outputs": [
    {
     "data": {
      "text/plain": [
       "((2194, 9), (1082, 9))"
      ]
     },
     "execution_count": 15,
     "metadata": {},
     "output_type": "execute_result"
    }
   ],
   "source": [
    "X_train.shape, X_test.shape"
   ]
  },
  {
   "cell_type": "code",
   "execution_count": 16,
   "id": "424c74d5",
   "metadata": {},
   "outputs": [],
   "source": [
    "cols = X_train.columns"
   ]
  },
  {
   "cell_type": "code",
   "execution_count": 17,
   "id": "c18bc3ca",
   "metadata": {},
   "outputs": [],
   "source": [
    "from sklearn.preprocessing import StandardScaler\n",
    "\n",
    "scaler = StandardScaler()\n",
    "\n",
    "X_train = scaler.fit_transform(X_train)\n",
    "\n",
    "X_test = scaler.transform(X_test)"
   ]
  },
  {
   "cell_type": "code",
   "execution_count": 18,
   "id": "57502c10",
   "metadata": {},
   "outputs": [],
   "source": [
    "X_train = pd.DataFrame(X_train, columns=[cols])"
   ]
  },
  {
   "cell_type": "code",
   "execution_count": 19,
   "id": "8263d235",
   "metadata": {},
   "outputs": [
    {
     "data": {
      "text/html": [
       "<div>\n",
       "<style scoped>\n",
       "    .dataframe tbody tr th:only-of-type {\n",
       "        vertical-align: middle;\n",
       "    }\n",
       "\n",
       "    .dataframe tbody tr th {\n",
       "        vertical-align: top;\n",
       "    }\n",
       "\n",
       "    .dataframe thead tr th {\n",
       "        text-align: left;\n",
       "    }\n",
       "</style>\n",
       "<table border=\"1\" class=\"dataframe\">\n",
       "  <thead>\n",
       "    <tr>\n",
       "      <th></th>\n",
       "      <th>ph</th>\n",
       "      <th>Hardness</th>\n",
       "      <th>Solids</th>\n",
       "      <th>Chloramines</th>\n",
       "      <th>Sulfate</th>\n",
       "      <th>Conductivity</th>\n",
       "      <th>Organic_carbon</th>\n",
       "      <th>Trihalomethanes</th>\n",
       "      <th>Turbidity</th>\n",
       "    </tr>\n",
       "  </thead>\n",
       "  <tbody>\n",
       "    <tr>\n",
       "      <th>0</th>\n",
       "      <td>-0.012082</td>\n",
       "      <td>-1.175513</td>\n",
       "      <td>2.580978</td>\n",
       "      <td>-1.921683</td>\n",
       "      <td>-2.390089</td>\n",
       "      <td>-0.327969</td>\n",
       "      <td>0.552055</td>\n",
       "      <td>-0.818736</td>\n",
       "      <td>0.198449</td>\n",
       "    </tr>\n",
       "    <tr>\n",
       "      <th>1</th>\n",
       "      <td>0.713614</td>\n",
       "      <td>-0.436925</td>\n",
       "      <td>-1.284570</td>\n",
       "      <td>-0.316328</td>\n",
       "      <td>0.003349</td>\n",
       "      <td>0.012385</td>\n",
       "      <td>-0.169397</td>\n",
       "      <td>0.713352</td>\n",
       "      <td>-1.776681</td>\n",
       "    </tr>\n",
       "    <tr>\n",
       "      <th>2</th>\n",
       "      <td>-1.176210</td>\n",
       "      <td>-0.342165</td>\n",
       "      <td>1.550377</td>\n",
       "      <td>1.604138</td>\n",
       "      <td>0.271749</td>\n",
       "      <td>-0.967573</td>\n",
       "      <td>-0.082491</td>\n",
       "      <td>-0.004673</td>\n",
       "      <td>-0.418262</td>\n",
       "    </tr>\n",
       "    <tr>\n",
       "      <th>3</th>\n",
       "      <td>0.298567</td>\n",
       "      <td>0.763120</td>\n",
       "      <td>-0.819829</td>\n",
       "      <td>-0.257413</td>\n",
       "      <td>0.905394</td>\n",
       "      <td>1.922443</td>\n",
       "      <td>1.053663</td>\n",
       "      <td>-0.428316</td>\n",
       "      <td>0.326390</td>\n",
       "    </tr>\n",
       "    <tr>\n",
       "      <th>4</th>\n",
       "      <td>-0.327991</td>\n",
       "      <td>-0.991149</td>\n",
       "      <td>-0.937589</td>\n",
       "      <td>-0.747106</td>\n",
       "      <td>0.003349</td>\n",
       "      <td>-1.364133</td>\n",
       "      <td>-0.668419</td>\n",
       "      <td>-0.315410</td>\n",
       "      <td>-0.202471</td>\n",
       "    </tr>\n",
       "  </tbody>\n",
       "</table>\n",
       "</div>"
      ],
      "text/plain": [
       "         ph  Hardness    Solids Chloramines   Sulfate Conductivity  \\\n",
       "0 -0.012082 -1.175513  2.580978   -1.921683 -2.390089    -0.327969   \n",
       "1  0.713614 -0.436925 -1.284570   -0.316328  0.003349     0.012385   \n",
       "2 -1.176210 -0.342165  1.550377    1.604138  0.271749    -0.967573   \n",
       "3  0.298567  0.763120 -0.819829   -0.257413  0.905394     1.922443   \n",
       "4 -0.327991 -0.991149 -0.937589   -0.747106  0.003349    -1.364133   \n",
       "\n",
       "  Organic_carbon Trihalomethanes Turbidity  \n",
       "0       0.552055       -0.818736  0.198449  \n",
       "1      -0.169397        0.713352 -1.776681  \n",
       "2      -0.082491       -0.004673 -0.418262  \n",
       "3       1.053663       -0.428316  0.326390  \n",
       "4      -0.668419       -0.315410 -0.202471  "
      ]
     },
     "execution_count": 19,
     "metadata": {},
     "output_type": "execute_result"
    }
   ],
   "source": [
    "X_train.head()"
   ]
  },
  {
   "cell_type": "code",
   "execution_count": 20,
   "id": "003f704a",
   "metadata": {},
   "outputs": [],
   "source": [
    "from sklearn.ensemble import RandomForestClassifier\n",
    "from sklearn.neighbors import KNeighborsClassifier\n",
    "from sklearn import svm\n",
    "from sklearn.linear_model import LogisticRegression\n",
    "from sklearn.ensemble import GradientBoostingClassifier\n",
    "from sklearn.svm import SVC\n",
    "from sklearn.metrics import accuracy_score\n",
    "from sklearn.model_selection import train_test_split, GridSearchCV\n",
    "from sklearn.neural_network import MLPClassifier\n",
    "from sklearn.tree import DecisionTreeClassifier\n",
    "\n",
    "from sklearn.metrics import precision_score,recall_score\n",
    "from sklearn.metrics import f1_score\n",
    "from sklearn.metrics import confusion_matrix,accuracy_score, classification_report"
   ]
  },
  {
   "cell_type": "code",
   "execution_count": 21,
   "id": "eb409e47",
   "metadata": {},
   "outputs": [
    {
     "data": {
      "text/html": [
       "<style>#sk-container-id-1 {color: black;background-color: white;}#sk-container-id-1 pre{padding: 0;}#sk-container-id-1 div.sk-toggleable {background-color: white;}#sk-container-id-1 label.sk-toggleable__label {cursor: pointer;display: block;width: 100%;margin-bottom: 0;padding: 0.3em;box-sizing: border-box;text-align: center;}#sk-container-id-1 label.sk-toggleable__label-arrow:before {content: \"▸\";float: left;margin-right: 0.25em;color: #696969;}#sk-container-id-1 label.sk-toggleable__label-arrow:hover:before {color: black;}#sk-container-id-1 div.sk-estimator:hover label.sk-toggleable__label-arrow:before {color: black;}#sk-container-id-1 div.sk-toggleable__content {max-height: 0;max-width: 0;overflow: hidden;text-align: left;background-color: #f0f8ff;}#sk-container-id-1 div.sk-toggleable__content pre {margin: 0.2em;color: black;border-radius: 0.25em;background-color: #f0f8ff;}#sk-container-id-1 input.sk-toggleable__control:checked~div.sk-toggleable__content {max-height: 200px;max-width: 100%;overflow: auto;}#sk-container-id-1 input.sk-toggleable__control:checked~label.sk-toggleable__label-arrow:before {content: \"▾\";}#sk-container-id-1 div.sk-estimator input.sk-toggleable__control:checked~label.sk-toggleable__label {background-color: #d4ebff;}#sk-container-id-1 div.sk-label input.sk-toggleable__control:checked~label.sk-toggleable__label {background-color: #d4ebff;}#sk-container-id-1 input.sk-hidden--visually {border: 0;clip: rect(1px 1px 1px 1px);clip: rect(1px, 1px, 1px, 1px);height: 1px;margin: -1px;overflow: hidden;padding: 0;position: absolute;width: 1px;}#sk-container-id-1 div.sk-estimator {font-family: monospace;background-color: #f0f8ff;border: 1px dotted black;border-radius: 0.25em;box-sizing: border-box;margin-bottom: 0.5em;}#sk-container-id-1 div.sk-estimator:hover {background-color: #d4ebff;}#sk-container-id-1 div.sk-parallel-item::after {content: \"\";width: 100%;border-bottom: 1px solid gray;flex-grow: 1;}#sk-container-id-1 div.sk-label:hover label.sk-toggleable__label {background-color: #d4ebff;}#sk-container-id-1 div.sk-serial::before {content: \"\";position: absolute;border-left: 1px solid gray;box-sizing: border-box;top: 0;bottom: 0;left: 50%;z-index: 0;}#sk-container-id-1 div.sk-serial {display: flex;flex-direction: column;align-items: center;background-color: white;padding-right: 0.2em;padding-left: 0.2em;position: relative;}#sk-container-id-1 div.sk-item {position: relative;z-index: 1;}#sk-container-id-1 div.sk-parallel {display: flex;align-items: stretch;justify-content: center;background-color: white;position: relative;}#sk-container-id-1 div.sk-item::before, #sk-container-id-1 div.sk-parallel-item::before {content: \"\";position: absolute;border-left: 1px solid gray;box-sizing: border-box;top: 0;bottom: 0;left: 50%;z-index: -1;}#sk-container-id-1 div.sk-parallel-item {display: flex;flex-direction: column;z-index: 1;position: relative;background-color: white;}#sk-container-id-1 div.sk-parallel-item:first-child::after {align-self: flex-end;width: 50%;}#sk-container-id-1 div.sk-parallel-item:last-child::after {align-self: flex-start;width: 50%;}#sk-container-id-1 div.sk-parallel-item:only-child::after {width: 0;}#sk-container-id-1 div.sk-dashed-wrapped {border: 1px dashed gray;margin: 0 0.4em 0.5em 0.4em;box-sizing: border-box;padding-bottom: 0.4em;background-color: white;}#sk-container-id-1 div.sk-label label {font-family: monospace;font-weight: bold;display: inline-block;line-height: 1.2em;}#sk-container-id-1 div.sk-label-container {text-align: center;}#sk-container-id-1 div.sk-container {/* jupyter's `normalize.less` sets `[hidden] { display: none; }` but bootstrap.min.css set `[hidden] { display: none !important; }` so we also need the `!important` here to be able to override the default hidden behavior on the sphinx rendered scikit-learn.org. See: https://github.com/scikit-learn/scikit-learn/issues/21755 */display: inline-block !important;position: relative;}#sk-container-id-1 div.sk-text-repr-fallback {display: none;}</style><div id=\"sk-container-id-1\" class=\"sk-top-container\"><div class=\"sk-text-repr-fallback\"><pre>MLPClassifier(hidden_layer_sizes=(7, 6), max_iter=1000, random_state=42)</pre><b>In a Jupyter environment, please rerun this cell to show the HTML representation or trust the notebook. <br />On GitHub, the HTML representation is unable to render, please try loading this page with nbviewer.org.</b></div><div class=\"sk-container\" hidden><div class=\"sk-item\"><div class=\"sk-estimator sk-toggleable\"><input class=\"sk-toggleable__control sk-hidden--visually\" id=\"sk-estimator-id-1\" type=\"checkbox\" checked><label for=\"sk-estimator-id-1\" class=\"sk-toggleable__label sk-toggleable__label-arrow\">MLPClassifier</label><div class=\"sk-toggleable__content\"><pre>MLPClassifier(hidden_layer_sizes=(7, 6), max_iter=1000, random_state=42)</pre></div></div></div></div></div>"
      ],
      "text/plain": [
       "MLPClassifier(hidden_layer_sizes=(7, 6), max_iter=1000, random_state=42)"
      ]
     },
     "execution_count": 21,
     "metadata": {},
     "output_type": "execute_result"
    }
   ],
   "source": [
    "NN = MLPClassifier(hidden_layer_sizes=(7,6),\n",
    "                  activation='relu',\n",
    "                  solver='adam',\n",
    "                  max_iter=1000,\n",
    "                  random_state=42)\n",
    "NN.fit(X_train, y_train)"
   ]
  },
  {
   "cell_type": "code",
   "execution_count": 22,
   "id": "1b26412c",
   "metadata": {},
   "outputs": [
    {
     "name": "stdout",
     "output_type": "stream",
     "text": [
      "Score:  0.6894639556377079 \n",
      "\n",
      "Weight: \n",
      "[[-4.58377556e-01  7.50687092e-01  5.36556996e-01  7.08260308e-01\n",
      "  -5.94699622e-01 -5.12232894e-01 -8.45382598e-01]\n",
      " [ 3.71837530e-01 -1.77019086e-01  5.43236697e-01 -6.30608108e-01\n",
      "   8.01837196e-01  2.24199645e-01 -7.10429435e-01]\n",
      " [-5.14568690e-01 -6.76319383e-01 -8.37023300e-02  4.29443145e-01\n",
      "  -3.11733982e-01 -1.60552564e-01  7.11499414e-01]\n",
      " [-4.08952529e-01 -3.94362938e-01 -4.01050952e-01  1.43515867e-01\n",
      "   3.24304057e-01 -2.44696418e-01  1.79753861e-01]\n",
      " [ 9.41956888e-01 -4.45156894e-02  3.45504263e-01 -8.24093997e-01\n",
      "  -2.85021702e-01  5.73507794e-01  1.63566845e-01]\n",
      " [ 2.97723512e-01  2.39298061e-01 -3.07790320e-01 -4.15435373e-02\n",
      "  -9.36376537e-02 -5.22338764e-01  9.92604410e-02]\n",
      " [-1.15416110e-01  4.42190976e-01 -5.21533702e-01 -1.14934189e-01\n",
      "  -1.07446905e-02 -1.82012748e-02  1.46979716e-01]\n",
      " [ 2.13702833e-01  3.12833619e-01  5.08852016e-02  1.49044981e-01\n",
      "   3.00745238e-01 -1.89347871e-01  5.25322692e-02]\n",
      " [-1.24563469e-01 -5.63045580e-04 -3.31103140e-01 -1.14632966e-01\n",
      "  -2.20805603e-01 -1.43851705e-01  4.33365597e-02]]\n",
      "[[ 0.1961434  -0.70449944 -0.68604797  0.62317881  0.20174078  0.4914715 ]\n",
      " [ 0.19635919 -0.60644179 -0.1350691  -0.54864534  0.69445551  0.08067306]\n",
      " [-0.37088063 -0.96525963 -0.63330633 -0.41407038  0.30426672  0.14014276]\n",
      " [ 0.66176036 -0.03562205 -0.00313627  0.75078844  0.1222478   0.36317947]\n",
      " [ 0.22086973  0.82056879 -0.13385124 -0.25722289 -0.7333134  -1.01508438]\n",
      " [ 0.0145826  -0.36134237 -0.4406079   0.74856028  0.18977162 -0.29321483]\n",
      " [-0.51324728  0.51716333 -0.74304629 -0.1988028  -0.45166414 -0.22412906]]\n",
      "[[ 0.64575967]\n",
      " [-0.42324416]\n",
      " [ 0.92972773]\n",
      " [ 1.19994339]\n",
      " [-0.40374911]\n",
      " [-1.13514707]]\n",
      "\n",
      "bias: \n",
      "[-0.06559392 -0.05723507  0.04917408 -0.21232055  0.64071966 -0.80799474\n",
      "  0.46557589]\n",
      "[0.40724705 0.27541534 0.19921213 0.5134556  0.45702357 0.13202879]\n",
      "[-0.68007861]\n"
     ]
    }
   ],
   "source": [
    "print(\"Score: \", NN.score(X_test , y_test), '\\n')\n",
    "\n",
    "print(\"Weight: \")\n",
    "print(*NN.coefs_, sep='\\n')\n",
    "\n",
    "print()\n",
    "print('bias: ')\n",
    "print(*NN.intercepts_,sep='\\n')"
   ]
  },
  {
   "cell_type": "code",
   "execution_count": 23,
   "id": "5eda3345",
   "metadata": {},
   "outputs": [
    {
     "data": {
      "text/html": [
       "<style>#sk-container-id-2 {color: black;background-color: white;}#sk-container-id-2 pre{padding: 0;}#sk-container-id-2 div.sk-toggleable {background-color: white;}#sk-container-id-2 label.sk-toggleable__label {cursor: pointer;display: block;width: 100%;margin-bottom: 0;padding: 0.3em;box-sizing: border-box;text-align: center;}#sk-container-id-2 label.sk-toggleable__label-arrow:before {content: \"▸\";float: left;margin-right: 0.25em;color: #696969;}#sk-container-id-2 label.sk-toggleable__label-arrow:hover:before {color: black;}#sk-container-id-2 div.sk-estimator:hover label.sk-toggleable__label-arrow:before {color: black;}#sk-container-id-2 div.sk-toggleable__content {max-height: 0;max-width: 0;overflow: hidden;text-align: left;background-color: #f0f8ff;}#sk-container-id-2 div.sk-toggleable__content pre {margin: 0.2em;color: black;border-radius: 0.25em;background-color: #f0f8ff;}#sk-container-id-2 input.sk-toggleable__control:checked~div.sk-toggleable__content {max-height: 200px;max-width: 100%;overflow: auto;}#sk-container-id-2 input.sk-toggleable__control:checked~label.sk-toggleable__label-arrow:before {content: \"▾\";}#sk-container-id-2 div.sk-estimator input.sk-toggleable__control:checked~label.sk-toggleable__label {background-color: #d4ebff;}#sk-container-id-2 div.sk-label input.sk-toggleable__control:checked~label.sk-toggleable__label {background-color: #d4ebff;}#sk-container-id-2 input.sk-hidden--visually {border: 0;clip: rect(1px 1px 1px 1px);clip: rect(1px, 1px, 1px, 1px);height: 1px;margin: -1px;overflow: hidden;padding: 0;position: absolute;width: 1px;}#sk-container-id-2 div.sk-estimator {font-family: monospace;background-color: #f0f8ff;border: 1px dotted black;border-radius: 0.25em;box-sizing: border-box;margin-bottom: 0.5em;}#sk-container-id-2 div.sk-estimator:hover {background-color: #d4ebff;}#sk-container-id-2 div.sk-parallel-item::after {content: \"\";width: 100%;border-bottom: 1px solid gray;flex-grow: 1;}#sk-container-id-2 div.sk-label:hover label.sk-toggleable__label {background-color: #d4ebff;}#sk-container-id-2 div.sk-serial::before {content: \"\";position: absolute;border-left: 1px solid gray;box-sizing: border-box;top: 0;bottom: 0;left: 50%;z-index: 0;}#sk-container-id-2 div.sk-serial {display: flex;flex-direction: column;align-items: center;background-color: white;padding-right: 0.2em;padding-left: 0.2em;position: relative;}#sk-container-id-2 div.sk-item {position: relative;z-index: 1;}#sk-container-id-2 div.sk-parallel {display: flex;align-items: stretch;justify-content: center;background-color: white;position: relative;}#sk-container-id-2 div.sk-item::before, #sk-container-id-2 div.sk-parallel-item::before {content: \"\";position: absolute;border-left: 1px solid gray;box-sizing: border-box;top: 0;bottom: 0;left: 50%;z-index: -1;}#sk-container-id-2 div.sk-parallel-item {display: flex;flex-direction: column;z-index: 1;position: relative;background-color: white;}#sk-container-id-2 div.sk-parallel-item:first-child::after {align-self: flex-end;width: 50%;}#sk-container-id-2 div.sk-parallel-item:last-child::after {align-self: flex-start;width: 50%;}#sk-container-id-2 div.sk-parallel-item:only-child::after {width: 0;}#sk-container-id-2 div.sk-dashed-wrapped {border: 1px dashed gray;margin: 0 0.4em 0.5em 0.4em;box-sizing: border-box;padding-bottom: 0.4em;background-color: white;}#sk-container-id-2 div.sk-label label {font-family: monospace;font-weight: bold;display: inline-block;line-height: 1.2em;}#sk-container-id-2 div.sk-label-container {text-align: center;}#sk-container-id-2 div.sk-container {/* jupyter's `normalize.less` sets `[hidden] { display: none; }` but bootstrap.min.css set `[hidden] { display: none !important; }` so we also need the `!important` here to be able to override the default hidden behavior on the sphinx rendered scikit-learn.org. See: https://github.com/scikit-learn/scikit-learn/issues/21755 */display: inline-block !important;position: relative;}#sk-container-id-2 div.sk-text-repr-fallback {display: none;}</style><div id=\"sk-container-id-2\" class=\"sk-top-container\"><div class=\"sk-text-repr-fallback\"><pre>DecisionTreeClassifier(max_depth=8, random_state=0)</pre><b>In a Jupyter environment, please rerun this cell to show the HTML representation or trust the notebook. <br />On GitHub, the HTML representation is unable to render, please try loading this page with nbviewer.org.</b></div><div class=\"sk-container\" hidden><div class=\"sk-item\"><div class=\"sk-estimator sk-toggleable\"><input class=\"sk-toggleable__control sk-hidden--visually\" id=\"sk-estimator-id-2\" type=\"checkbox\" checked><label for=\"sk-estimator-id-2\" class=\"sk-toggleable__label sk-toggleable__label-arrow\">DecisionTreeClassifier</label><div class=\"sk-toggleable__content\"><pre>DecisionTreeClassifier(max_depth=8, random_state=0)</pre></div></div></div></div></div>"
      ],
      "text/plain": [
       "DecisionTreeClassifier(max_depth=8, random_state=0)"
      ]
     },
     "execution_count": 23,
     "metadata": {},
     "output_type": "execute_result"
    }
   ],
   "source": [
    "clf_gini = DecisionTreeClassifier(criterion='gini', max_depth=8, random_state=0)\n",
    "\n",
    "\n",
    "# fit the model\n",
    "clf_gini.fit(X_train, y_train)"
   ]
  },
  {
   "cell_type": "code",
   "execution_count": 24,
   "id": "66e1c4a1",
   "metadata": {},
   "outputs": [
    {
     "name": "stdout",
     "output_type": "stream",
     "text": [
      "model: RandomForestClassifier()\n",
      "              precision    recall  f1-score   support\n",
      "\n",
      "         0.0       0.69      0.89      0.78       680\n",
      "         1.0       0.64      0.33      0.44       402\n",
      "\n",
      "    accuracy                           0.68      1082\n",
      "   macro avg       0.67      0.61      0.61      1082\n",
      "weighted avg       0.67      0.68      0.65      1082\n",
      "\n",
      "Duration: 0:00:00.950564 \n",
      "\n",
      "------------------------------ \n",
      "\n",
      "model: KNeighborsClassifier()\n",
      "              precision    recall  f1-score   support\n",
      "\n",
      "         0.0       0.69      0.77      0.73       680\n",
      "         1.0       0.51      0.41      0.45       402\n",
      "\n",
      "    accuracy                           0.64      1082\n",
      "   macro avg       0.60      0.59      0.59      1082\n",
      "weighted avg       0.62      0.64      0.63      1082\n",
      "\n",
      "Duration: 0:00:01.067444 \n",
      "\n",
      "------------------------------ \n",
      "\n",
      "model: SVC()\n",
      "              precision    recall  f1-score   support\n",
      "\n",
      "         0.0       0.69      0.92      0.79       680\n",
      "         1.0       0.68      0.30      0.42       402\n",
      "\n",
      "    accuracy                           0.69      1082\n",
      "   macro avg       0.69      0.61      0.60      1082\n",
      "weighted avg       0.69      0.69      0.65      1082\n",
      "\n",
      "Duration: 0:00:01.684473 \n",
      "\n",
      "------------------------------ \n",
      "\n",
      "model: LogisticRegression()\n",
      "              precision    recall  f1-score   support\n",
      "\n",
      "         0.0       0.63      1.00      0.77       680\n",
      "         1.0       1.00      0.00      0.00       402\n",
      "\n",
      "    accuracy                           0.63      1082\n",
      "   macro avg       0.81      0.50      0.39      1082\n",
      "weighted avg       0.77      0.63      0.49      1082\n",
      "\n",
      "Duration: 0:00:01.707442 \n",
      "\n",
      "------------------------------ \n",
      "\n",
      "model: MLPClassifier()\n",
      "              precision    recall  f1-score   support\n",
      "\n",
      "         0.0       0.70      0.84      0.76       680\n",
      "         1.0       0.59      0.39      0.47       402\n",
      "\n",
      "    accuracy                           0.67      1082\n",
      "   macro avg       0.64      0.62      0.62      1082\n",
      "weighted avg       0.66      0.67      0.65      1082\n",
      "\n",
      "Duration: 0:00:03.503797 \n",
      "\n",
      "------------------------------ \n",
      "\n",
      "model: DecisionTreeClassifier()\n",
      "              precision    recall  f1-score   support\n",
      "\n",
      "         0.0       0.68      0.66      0.67       680\n",
      "         1.0       0.45      0.49      0.47       402\n",
      "\n",
      "    accuracy                           0.59      1082\n",
      "   macro avg       0.57      0.57      0.57      1082\n",
      "weighted avg       0.60      0.59      0.59      1082\n",
      "\n",
      "Duration: 0:00:03.540802 \n",
      "\n",
      "------------------------------ \n",
      "\n"
     ]
    },
    {
     "name": "stderr",
     "output_type": "stream",
     "text": [
      "C:\\Users\\Pakanun\\anaconda3\\envs\\tensorflow\\lib\\site-packages\\sklearn\\neural_network\\_multilayer_perceptron.py:702: ConvergenceWarning: Stochastic Optimizer: Maximum iterations (200) reached and the optimization hasn't converged yet.\n",
      "  warnings.warn(\n"
     ]
    }
   ],
   "source": [
    "from datetime import datetime\n",
    "start_time = datetime.now()\n",
    "models = [RandomForestClassifier(), KNeighborsClassifier(), SVC(), LogisticRegression() , MLPClassifier() , DecisionTreeClassifier()]\n",
    "scores = dict()\n",
    "\n",
    "for m in models:\n",
    "    m.fit(X_train, y_train)\n",
    "    y_pred = m.predict(X_test)\n",
    "\n",
    "    print(f'model: {str(m)}')\n",
    "    print(classification_report(y_test,y_pred, zero_division=1))\n",
    "    end_time = datetime.now()\n",
    "    print('Duration: {}'.format(end_time - start_time), '\\n')\n",
    "    print('-'*30, '\\n')"
   ]
  },
  {
   "cell_type": "code",
   "execution_count": 25,
   "id": "ffd7df28",
   "metadata": {},
   "outputs": [
    {
     "name": "stdout",
     "output_type": "stream",
     "text": [
      "Mean is : 0.71736\n",
      "SD is : 0.007873245836375223\n"
     ]
    }
   ],
   "source": [
    "import statistics\n",
    "\n",
    "data1 = [0.7157, 0.7150, 0.7083, 0.7299, 0.7179]\n",
    " \n",
    "mean = statistics.mean(data1)\n",
    "SD = statistics.stdev(data1)\n",
    " \n",
    "print(\"Mean is :\", mean)\n",
    "print(\"SD is :\", SD)"
   ]
  },
  {
   "cell_type": "markdown",
   "id": "3c1e537b",
   "metadata": {},
   "source": [
    "# MLP"
   ]
  },
  {
   "cell_type": "markdown",
   "id": "f3ca390c",
   "metadata": {},
   "source": [
    "## 1. Prepare the environment"
   ]
  },
  {
   "cell_type": "code",
   "execution_count": 26,
   "id": "ae1dc03d",
   "metadata": {},
   "outputs": [
    {
     "name": "stdout",
     "output_type": "stream",
     "text": [
      "GPU 0: NVIDIA GeForce GTX 1650 Ti (UUID: GPU-6a814758-74aa-8da0-74cd-0efe37da8dd7)\n"
     ]
    }
   ],
   "source": [
    "# List all NVIDIA GPUs as avaialble in this computer (or Colab's session)\n",
    "!nvidia-smi -L"
   ]
  },
  {
   "cell_type": "code",
   "execution_count": 27,
   "id": "3d88fb2c",
   "metadata": {},
   "outputs": [
    {
     "name": "stdout",
     "output_type": "stream",
     "text": [
      "Python 3.9.12 (main, Apr  4 2022, 05:22:27) [MSC v.1916 64 bit (AMD64)]\n",
      "\n",
      "NumPy 1.23.1\n",
      "\n",
      "TensorFlow 2.9.1\n",
      "tf.keras.backend.image_data_format() = channels_last\n",
      "TensorFlow detected 1 GPU(s):\n",
      ".... GPU No. 0: Name = /physical_device:GPU:0 , Type = GPU\n"
     ]
    }
   ],
   "source": [
    "import sys\n",
    "print( f\"Python {sys.version}\\n\" )\n",
    "\n",
    "import numpy as np\n",
    "print( f\"NumPy {np.__version__}\\n\" )\n",
    "\n",
    "import matplotlib.pyplot as plt\n",
    "%matplotlib inline\n",
    "\n",
    "import tensorflow as tf\n",
    "print( f\"TensorFlow {tf.__version__}\" )\n",
    "print( f\"tf.keras.backend.image_data_format() = {tf.keras.backend.image_data_format()}\" )\n",
    "\n",
    "# Count the number of GPUs as detected by tensorflow\n",
    "gpus = tf.config.list_physical_devices('GPU')\n",
    "print( f\"TensorFlow detected { len(gpus) } GPU(s):\" )\n",
    "for i, gpu in enumerate(gpus):\n",
    "  print( f\".... GPU No. {i}: Name = {gpu.name} , Type = {gpu.device_type}\" )"
   ]
  },
  {
   "cell_type": "code",
   "execution_count": 28,
   "id": "03b03e2f",
   "metadata": {},
   "outputs": [],
   "source": [
    "# Set fixed seeding values for reproducability during experiments\n",
    "# Skip this cell if random initialization (with varied results) is needed\n",
    "tf.random.set_seed(0)"
   ]
  },
  {
   "cell_type": "markdown",
   "id": "6d07e697",
   "metadata": {},
   "source": [
    "# 2. Prepare the data in NumPy "
   ]
  },
  {
   "cell_type": "code",
   "execution_count": 29,
   "id": "f2851507",
   "metadata": {},
   "outputs": [
    {
     "data": {
      "text/html": [
       "<div>\n",
       "<style scoped>\n",
       "    .dataframe tbody tr th:only-of-type {\n",
       "        vertical-align: middle;\n",
       "    }\n",
       "\n",
       "    .dataframe tbody tr th {\n",
       "        vertical-align: top;\n",
       "    }\n",
       "\n",
       "    .dataframe thead th {\n",
       "        text-align: right;\n",
       "    }\n",
       "</style>\n",
       "<table border=\"1\" class=\"dataframe\">\n",
       "  <thead>\n",
       "    <tr style=\"text-align: right;\">\n",
       "      <th></th>\n",
       "      <th>ph</th>\n",
       "      <th>Hardness</th>\n",
       "      <th>Solids</th>\n",
       "      <th>Chloramines</th>\n",
       "      <th>Sulfate</th>\n",
       "      <th>Conductivity</th>\n",
       "      <th>Organic_carbon</th>\n",
       "      <th>Trihalomethanes</th>\n",
       "      <th>Turbidity</th>\n",
       "      <th>Potability</th>\n",
       "    </tr>\n",
       "  </thead>\n",
       "  <tbody>\n",
       "    <tr>\n",
       "      <th>0</th>\n",
       "      <td>NaN</td>\n",
       "      <td>204.890455</td>\n",
       "      <td>20791.318981</td>\n",
       "      <td>7.300212</td>\n",
       "      <td>368.516441</td>\n",
       "      <td>564.308654</td>\n",
       "      <td>10.379783</td>\n",
       "      <td>86.990970</td>\n",
       "      <td>2.963135</td>\n",
       "      <td>0</td>\n",
       "    </tr>\n",
       "    <tr>\n",
       "      <th>1</th>\n",
       "      <td>3.716080</td>\n",
       "      <td>129.422921</td>\n",
       "      <td>18630.057858</td>\n",
       "      <td>6.635246</td>\n",
       "      <td>NaN</td>\n",
       "      <td>592.885359</td>\n",
       "      <td>15.180013</td>\n",
       "      <td>56.329076</td>\n",
       "      <td>4.500656</td>\n",
       "      <td>0</td>\n",
       "    </tr>\n",
       "    <tr>\n",
       "      <th>2</th>\n",
       "      <td>8.099124</td>\n",
       "      <td>224.236259</td>\n",
       "      <td>19909.541732</td>\n",
       "      <td>9.275884</td>\n",
       "      <td>NaN</td>\n",
       "      <td>418.606213</td>\n",
       "      <td>16.868637</td>\n",
       "      <td>66.420093</td>\n",
       "      <td>3.055934</td>\n",
       "      <td>0</td>\n",
       "    </tr>\n",
       "    <tr>\n",
       "      <th>3</th>\n",
       "      <td>8.316766</td>\n",
       "      <td>214.373394</td>\n",
       "      <td>22018.417441</td>\n",
       "      <td>8.059332</td>\n",
       "      <td>356.886136</td>\n",
       "      <td>363.266516</td>\n",
       "      <td>18.436524</td>\n",
       "      <td>100.341674</td>\n",
       "      <td>4.628771</td>\n",
       "      <td>0</td>\n",
       "    </tr>\n",
       "    <tr>\n",
       "      <th>4</th>\n",
       "      <td>9.092223</td>\n",
       "      <td>181.101509</td>\n",
       "      <td>17978.986339</td>\n",
       "      <td>6.546600</td>\n",
       "      <td>310.135738</td>\n",
       "      <td>398.410813</td>\n",
       "      <td>11.558279</td>\n",
       "      <td>31.997993</td>\n",
       "      <td>4.075075</td>\n",
       "      <td>0</td>\n",
       "    </tr>\n",
       "  </tbody>\n",
       "</table>\n",
       "</div>"
      ],
      "text/plain": [
       "         ph    Hardness        Solids  Chloramines     Sulfate  Conductivity  \\\n",
       "0       NaN  204.890455  20791.318981     7.300212  368.516441    564.308654   \n",
       "1  3.716080  129.422921  18630.057858     6.635246         NaN    592.885359   \n",
       "2  8.099124  224.236259  19909.541732     9.275884         NaN    418.606213   \n",
       "3  8.316766  214.373394  22018.417441     8.059332  356.886136    363.266516   \n",
       "4  9.092223  181.101509  17978.986339     6.546600  310.135738    398.410813   \n",
       "\n",
       "   Organic_carbon  Trihalomethanes  Turbidity  Potability  \n",
       "0       10.379783        86.990970   2.963135           0  \n",
       "1       15.180013        56.329076   4.500656           0  \n",
       "2       16.868637        66.420093   3.055934           0  \n",
       "3       18.436524       100.341674   4.628771           0  \n",
       "4       11.558279        31.997993   4.075075           0  "
      ]
     },
     "execution_count": 29,
     "metadata": {},
     "output_type": "execute_result"
    }
   ],
   "source": [
    "import pandas as pd\n",
    "\n",
    "df = pd.read_csv(\"water_potability.csv\")\n",
    "df.head()"
   ]
  },
  {
   "cell_type": "code",
   "execution_count": 30,
   "id": "2ed71693",
   "metadata": {},
   "outputs": [
    {
     "data": {
      "text/plain": [
       "ph                 491\n",
       "Hardness             0\n",
       "Solids               0\n",
       "Chloramines          0\n",
       "Sulfate            781\n",
       "Conductivity         0\n",
       "Organic_carbon       0\n",
       "Trihalomethanes    162\n",
       "Turbidity            0\n",
       "Potability           0\n",
       "dtype: int64"
      ]
     },
     "execution_count": 30,
     "metadata": {},
     "output_type": "execute_result"
    }
   ],
   "source": [
    "df.isnull().sum()"
   ]
  },
  {
   "cell_type": "code",
   "execution_count": 31,
   "id": "c72284ad",
   "metadata": {},
   "outputs": [],
   "source": [
    "df = df.fillna(df.mean())"
   ]
  },
  {
   "cell_type": "code",
   "execution_count": 32,
   "id": "499157be",
   "metadata": {},
   "outputs": [],
   "source": [
    "from sklearn.preprocessing import StandardScaler\n",
    "from sklearn.model_selection import train_test_split\n",
    "\n",
    "x = df.drop(['Potability'], axis=1)\n",
    "y = df['Potability']\n",
    "\n",
    "x_train, x_test, y_train, y_test = train_test_split(x, y, test_size = 0.33, random_state=42)\n",
    "\n",
    "scaler = StandardScaler()\n",
    "x_train = scaler.fit_transform(x_train)\n",
    "x_test = scaler.transform(x_test)"
   ]
  },
  {
   "cell_type": "code",
   "execution_count": 33,
   "id": "d56093b3",
   "metadata": {},
   "outputs": [
    {
     "name": "stdout",
     "output_type": "stream",
     "text": [
      "x_train.shape=(2194, 9) , x_train.dtype=float64 , min(x_train)=-5.656491173707195 , max(x_train)=4.712951610472038\n",
      "y_train.shape=(2194,) , y_train.dtype=int64 , min(y_train)=0 , max(y_train)=1\n",
      "x_test.shape=(1082, 9) , x_test.dtype=float64 , min(x_test)=-4.55294343038086 , max(x_test)=4.399670653361734\n",
      "y_test.shape=(1082,) , y_test.dtype=int64 , min(y_test)=0 , max(y_test)=1\n"
     ]
    }
   ],
   "source": [
    "print( f\"x_train.shape={x_train.shape} , x_train.dtype={x_train.dtype} , min(x_train)={np.min(x_train)} , max(x_train)={np.max(x_train)}\" )\n",
    "print( f\"y_train.shape={y_train.shape} , y_train.dtype={y_train.dtype} , min(y_train)={np.min(y_train)} , max(y_train)={np.max(y_train)}\" )\n",
    "print( f\"x_test.shape={x_test.shape} , x_test.dtype={x_test.dtype} , min(x_test)={np.min(x_test)} , max(x_test)={np.max(x_test)}\" )\n",
    "print( f\"y_test.shape={y_test.shape} , y_test.dtype={y_test.dtype} , min(y_test)={np.min(y_test)} , max(y_test)={np.max(y_test)}\" )"
   ]
  },
  {
   "cell_type": "code",
   "execution_count": 34,
   "id": "2cea944b",
   "metadata": {},
   "outputs": [
    {
     "name": "stdout",
     "output_type": "stream",
     "text": [
      "x_train.shape=(2194, 9) , x_train.dtype=float32 , min(x_train)=-5.656491279602051 , max(x_train)=4.71295166015625\n",
      "x_test.shape=(1082, 9) , x_test.dtype=float32 , min(x_test)=-4.552943229675293 , max(x_test)=4.399670600891113\n"
     ]
    }
   ],
   "source": [
    "x_train = x_train.astype(np.float32)\n",
    "x_test = x_test.astype(np.float32)\n",
    "\n",
    "print( f\"x_train.shape={x_train.shape} , x_train.dtype={x_train.dtype} , min(x_train)={np.min(x_train)} , max(x_train)={np.max(x_train)}\" )\n",
    "print( f\"x_test.shape={x_test.shape} , x_test.dtype={x_test.dtype} , min(x_test)={np.min(x_test)} , max(x_test)={np.max(x_test)}\" )"
   ]
  },
  {
   "cell_type": "markdown",
   "id": "16ecd9aa",
   "metadata": {},
   "source": [
    "# 3. Create the network architecture"
   ]
  },
  {
   "cell_type": "code",
   "execution_count": 35,
   "id": "d0d8cd52",
   "metadata": {},
   "outputs": [
    {
     "name": "stdout",
     "output_type": "stream",
     "text": [
      "Model: \"sequential\"\n",
      "_________________________________________________________________\n",
      " Layer (type)                Output Shape              Param #   \n",
      "=================================================================\n",
      " hidden1 (Dense)             (None, 32)                320       \n",
      "                                                                 \n",
      " bn1 (BatchNormalization)    (None, 32)                128       \n",
      "                                                                 \n",
      " hidden2 (Dense)             (None, 64)                2112      \n",
      "                                                                 \n",
      " bn2 (BatchNormalization)    (None, 64)                256       \n",
      "                                                                 \n",
      " hidden3 (Dense)             (None, 32)                2080      \n",
      "                                                                 \n",
      " dropout (Dropout)           (None, 32)                0         \n",
      "                                                                 \n",
      " output (Dense)              (None, 2)                 66        \n",
      "                                                                 \n",
      "=================================================================\n",
      "Total params: 4,962\n",
      "Trainable params: 4,770\n",
      "Non-trainable params: 192\n",
      "_________________________________________________________________\n"
     ]
    }
   ],
   "source": [
    "input_dim = 9     # the number of features per one input\n",
    "output_dim = 2     # the number of output classes\n",
    "\n",
    "model = tf.keras.models.Sequential()\n",
    "\n",
    "# Input layer\n",
    "model.add( tf.keras.Input(shape=(input_dim,)) )\n",
    "\n",
    "# Hidden layer\n",
    "model.add( tf.keras.layers.Dense(32, activation='relu', name='hidden1') )   # use default weight initialization, don't use any regularization\n",
    "model.add( tf.keras.layers.BatchNormalization(axis=-1, name='bn1') )  \n",
    "model.add( tf.keras.layers.Dense(64, activation='relu', name='hidden2') )   # use default weight initialization, don't use any regularization\n",
    "model.add( tf.keras.layers.BatchNormalization(axis=-1, name='bn2') )\n",
    "model.add( tf.keras.layers.Dense(32, activation='relu', name='hidden3') )   # use default weight initialization, don't use any regularization\n",
    "model.add( tf.keras.layers.Dropout(0.3) )                        # drop rate = 30%\n",
    "\n",
    "# Output layer\n",
    "model.add( tf.keras.layers.Dense(output_dim, activation='softmax', name='output') )\n",
    "\n",
    "model.summary()"
   ]
  },
  {
   "cell_type": "markdown",
   "id": "4edba23b",
   "metadata": {},
   "source": [
    "# 4. Compile the model"
   ]
  },
  {
   "cell_type": "code",
   "execution_count": 36,
   "id": "ae9f273b",
   "metadata": {},
   "outputs": [],
   "source": [
    "# Compile with default values for both optimizer and loss\n",
    "model.compile( optimizer='adam', loss='sparse_categorical_crossentropy', metrics=['acc'] )"
   ]
  },
  {
   "cell_type": "code",
   "execution_count": 37,
   "id": "9a3b9583",
   "metadata": {},
   "outputs": [],
   "source": [
    "# Compile + hyperparameter tuning\n",
    "model.compile( optimizer=tf.keras.optimizers.Adam(learning_rate=0.001) , \n",
    "                       loss=tf.keras.losses.SparseCategoricalCrossentropy(from_logits=False) ,\n",
    "                       metrics=['acc'] \n",
    "                     )"
   ]
  },
  {
   "cell_type": "code",
   "execution_count": 38,
   "id": "48d96d2c",
   "metadata": {},
   "outputs": [],
   "source": [
    "checkpoint_filepath = \"bestmodel_epoch{epoch:02d}_valloss{val_loss:.2f}.hdf5\"\n",
    "model_checkpoint_callback = tf.keras.callbacks.ModelCheckpoint( filepath=checkpoint_filepath,\n",
    "                                                                                              save_weights_only=True,\n",
    "                                                                                              monitor='val_acc',\n",
    "                                                                                              mode='max',\n",
    "                                                                                              save_best_only=True)"
   ]
  },
  {
   "cell_type": "code",
   "execution_count": 39,
   "id": "e08e5c24",
   "metadata": {},
   "outputs": [
    {
     "name": "stdout",
     "output_type": "stream",
     "text": [
      "Epoch 1/20\n",
      "14/14 [==============================] - 5s 47ms/step - loss: 1.1081 - acc: 0.4387 - val_loss: 0.6924 - val_acc: 0.5353\n",
      "Epoch 2/20\n",
      "14/14 [==============================] - 0s 20ms/step - loss: 0.8099 - acc: 0.5060 - val_loss: 0.6756 - val_acc: 0.6059\n",
      "Epoch 3/20\n",
      "14/14 [==============================] - 0s 20ms/step - loss: 0.7213 - acc: 0.5715 - val_loss: 0.6675 - val_acc: 0.6105\n",
      "Epoch 4/20\n",
      "14/14 [==============================] - 0s 19ms/step - loss: 0.6837 - acc: 0.6074 - val_loss: 0.6618 - val_acc: 0.6219\n",
      "Epoch 5/20\n",
      "14/14 [==============================] - 0s 20ms/step - loss: 0.6639 - acc: 0.6199 - val_loss: 0.6583 - val_acc: 0.6355\n",
      "Epoch 6/20\n",
      "14/14 [==============================] - 0s 23ms/step - loss: 0.6387 - acc: 0.6484 - val_loss: 0.6549 - val_acc: 0.6378\n",
      "Epoch 7/20\n",
      "14/14 [==============================] - 0s 17ms/step - loss: 0.6389 - acc: 0.6348 - val_loss: 0.6499 - val_acc: 0.6492\n",
      "Epoch 8/20\n",
      "14/14 [==============================] - 0s 15ms/step - loss: 0.6244 - acc: 0.6598 - val_loss: 0.6461 - val_acc: 0.6469\n",
      "Epoch 9/20\n",
      "14/14 [==============================] - 0s 17ms/step - loss: 0.6068 - acc: 0.6678 - val_loss: 0.6434 - val_acc: 0.6515\n",
      "Epoch 10/20\n",
      "14/14 [==============================] - 0s 14ms/step - loss: 0.6073 - acc: 0.6718 - val_loss: 0.6407 - val_acc: 0.6492\n",
      "Epoch 11/20\n",
      "14/14 [==============================] - 0s 21ms/step - loss: 0.5999 - acc: 0.6758 - val_loss: 0.6389 - val_acc: 0.6583\n",
      "Epoch 12/20\n",
      "14/14 [==============================] - 0s 19ms/step - loss: 0.5988 - acc: 0.6781 - val_loss: 0.6351 - val_acc: 0.6606\n",
      "Epoch 13/20\n",
      "14/14 [==============================] - 0s 15ms/step - loss: 0.5870 - acc: 0.6952 - val_loss: 0.6333 - val_acc: 0.6538\n",
      "Epoch 14/20\n",
      "14/14 [==============================] - 0s 14ms/step - loss: 0.5850 - acc: 0.6980 - val_loss: 0.6308 - val_acc: 0.6538\n",
      "Epoch 15/20\n",
      "14/14 [==============================] - 0s 17ms/step - loss: 0.5861 - acc: 0.6843 - val_loss: 0.6281 - val_acc: 0.6651\n",
      "Epoch 16/20\n",
      "14/14 [==============================] - 0s 15ms/step - loss: 0.5769 - acc: 0.7020 - val_loss: 0.6266 - val_acc: 0.6583\n",
      "Epoch 17/20\n",
      "14/14 [==============================] - 0s 15ms/step - loss: 0.5680 - acc: 0.6963 - val_loss: 0.6262 - val_acc: 0.6492\n",
      "Epoch 18/20\n",
      "14/14 [==============================] - 0s 15ms/step - loss: 0.5603 - acc: 0.7151 - val_loss: 0.6251 - val_acc: 0.6538\n",
      "Epoch 19/20\n",
      "14/14 [==============================] - 0s 14ms/step - loss: 0.5735 - acc: 0.7037 - val_loss: 0.6200 - val_acc: 0.6492\n",
      "Epoch 20/20\n",
      "14/14 [==============================] - 0s 15ms/step - loss: 0.5539 - acc: 0.7157 - val_loss: 0.6184 - val_acc: 0.6492\n"
     ]
    }
   ],
   "source": [
    "history = model.fit ( x_train, y_train, batch_size=128, epochs=20, verbose=1, validation_split=0.2, callbacks=[model_checkpoint_callback] )"
   ]
  },
  {
   "cell_type": "code",
   "execution_count": 40,
   "id": "39ad9353",
   "metadata": {},
   "outputs": [
    {
     "name": "stderr",
     "output_type": "stream",
     "text": [
      "'ls' is not recognized as an internal or external command,\n",
      "operable program or batch file.\n"
     ]
    }
   ],
   "source": [
    "# Inspect the saved files (sorted by modification date, newest first)\n",
    "!ls -lt"
   ]
  },
  {
   "cell_type": "code",
   "execution_count": 41,
   "id": "a0509395",
   "metadata": {},
   "outputs": [
    {
     "data": {
      "text/plain": [
       "dict_keys(['loss', 'acc', 'val_loss', 'val_acc'])"
      ]
     },
     "execution_count": 41,
     "metadata": {},
     "output_type": "execute_result"
    }
   ],
   "source": [
    "# Check the keys in 'history'\n",
    "history.history.keys()"
   ]
  },
  {
   "cell_type": "code",
   "execution_count": 42,
   "id": "07626785",
   "metadata": {},
   "outputs": [
    {
     "data": {
      "image/png": "[encoded data removed]",
      "text/plain": [
       "<Figure size 1080x360 with 1 Axes>"
      ]
     },
     "metadata": {
      "needs_background": "light"
     },
     "output_type": "display_data"
    },
    {
     "data": {
      "image/png": "[encoded data removed]",
      "text/plain": [
       "<Figure size 1080x360 with 1 Axes>"
      ]
     },
     "metadata": {
      "needs_background": "light"
     },
     "output_type": "display_data"
    }
   ],
   "source": [
    "# Summarize history for accuracy\n",
    "plt.figure(figsize=(15,5))\n",
    "plt.plot(history.history['acc'])\n",
    "plt.plot(history.history['val_acc'])\n",
    "plt.title('Train accuracy')\n",
    "plt.ylabel('accuracy')\n",
    "plt.xlabel('epoch')\n",
    "plt.legend(['train', 'val'], loc='upper left')\n",
    "plt.grid()\n",
    "plt.show()\n",
    "\n",
    "# Summarize history for loss\n",
    "plt.figure(figsize=(15,5))\n",
    "plt.plot(history.history['loss'])\n",
    "plt.plot(history.history['val_loss'])\n",
    "plt.title('Train loss')\n",
    "plt.ylabel('loss')\n",
    "plt.xlabel('epoch')\n",
    "plt.legend(['train', 'val'], loc='upper right')\n",
    "plt.grid()\n",
    "plt.show()"
   ]
  },
  {
   "cell_type": "markdown",
   "id": "7e86ced2",
   "metadata": {},
   "source": [
    "# 6. Evaluate the model on test set\n"
   ]
  },
  {
   "cell_type": "code",
   "execution_count": 43,
   "id": "6384512a",
   "metadata": {},
   "outputs": [
    {
     "name": "stdout",
     "output_type": "stream",
     "text": [
      "9/9 [==============================] - 0s 7ms/step - loss: 0.6170 - acc: 0.6608\n",
      "['loss', 'acc'] = [0.6170473694801331, 0.6608133316040039]\n"
     ]
    }
   ],
   "source": [
    "results = model.evaluate(x_test, y_test, batch_size=128)\n",
    "print( f\"{model.metrics_names} = {results}\" )"
   ]
  },
  {
   "cell_type": "markdown",
   "id": "ffebca9b",
   "metadata": {},
   "source": [
    "# 7. Inference"
   ]
  },
  {
   "cell_type": "code",
   "execution_count": 44,
   "id": "244660dd",
   "metadata": {},
   "outputs": [
    {
     "name": "stdout",
     "output_type": "stream",
     "text": [
      "1/1 [==============================] - 0s 179ms/step\n",
      "########## Input: x_test[0] ##########\n",
      "shape=(9,)\n",
      "value=[-0.01208204 -0.4037331  -0.19011497  0.14159842 -0.0147908  -0.8597023\n",
      "  1.7995746   0.03469764  1.1985697 ]\n",
      "\n",
      "########## Ground truth: y_test[0] ##########\n",
      "shape=()\n",
      "value=0\n",
      "\n",
      "########## Prediction: y_pred ##########\n",
      "type=<class 'numpy.ndarray'>\n",
      "dtype=float32\n",
      "shape=(1, 2)\n",
      "value=[[0.70859396 0.29140604]]\n",
      "np.argmax(y_pred)=0\n"
     ]
    }
   ],
   "source": [
    "# Test using the model on x_test[i]\n",
    "i = 0\n",
    "y_pred = model.predict( x_test[i].reshape(1,-1) )   # reshape x_test[i] from (n_feature,) to (1, n_feature)\n",
    "\n",
    "print( f\"{'#'*10} Input: x_test[{i}] {'#'*10}\" )\n",
    "print( f\"shape={x_test[i].shape}\\nvalue={x_test[i]}\\n\" )\n",
    "\n",
    "print( f\"{'#'*10} Ground truth: y_test[{i}] {'#'*10}\" )\n",
    "print( f\"shape={y_test[i].shape}\\nvalue={y_test[i]}\\n\" )\n",
    "\n",
    "print( f\"{'#'*10} Prediction: y_pred {'#'*10}\" )\n",
    "print( f\"type={type(y_pred)}\\ndtype={y_pred.dtype}\\nshape={y_pred.shape}\" )\n",
    "print( f\"value={y_pred}\" )\n",
    "print( f\"np.argmax(y_pred)={np.argmax(y_pred)}\" )"
   ]
  },
  {
   "cell_type": "code",
   "execution_count": null,
   "id": "f85257b0",
   "metadata": {},
   "outputs": [],
   "source": []
  }
 ],
 "metadata": {
  "kernelspec": {
   "display_name": "Python 3 (ipykernel)",
   "language": "python",
   "name": "python3"
  },
  "language_info": {
   "codemirror_mode": {
    "name": "ipython",
    "version": 3
   },
   "file_extension": ".py",
   "mimetype": "text/x-python",
   "name": "python",
   "nbconvert_exporter": "python",
   "pygments_lexer": "ipython3",
   "version": "3.9.12"
  }
 },
 "nbformat": 4,
 "nbformat_minor": 5
}
